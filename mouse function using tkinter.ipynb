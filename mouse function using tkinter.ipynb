{
 "cells": [
  {
   "cell_type": "code",
   "execution_count": null,
   "metadata": {},
   "outputs": [],
   "source": [
    "#Binding mouse movement with tkinter Frame.\n",
    "\n",
    "\n",
    "\n",
    "# # Import all files from \n",
    "# tkinter and overwrite \n",
    "# all the tkinter files \n",
    "# by tkinter.ttk \n",
    "  \n",
    "from tkinter import * \n",
    "from tkinter.ttk import *\n",
    "  \n",
    "# creates tkinter window or root window \n",
    "root = Tk() \n",
    "root.geometry('200x100') \n",
    "  \n",
    "# function to be called when mouse enters in a frame \n",
    "def enter(event): \n",
    "    print('Button-2 pressed at x = % d, y = % d'%(event.x, event.y)) \n",
    "  \n",
    "# function to be called when when mouse exits the frame \n",
    "def exit_(event): \n",
    "    print('Button-3 pressed at x = % d, y = % d'%(event.x, event.y)) \n",
    "  \n",
    "# frame with fixed geomerty \n",
    "frame1 = Frame(root, height = 100, width = 200) \n",
    "  \n",
    "# these lines are showing the \n",
    "# working of bind function \n",
    "# it is universal widget method \n",
    "frame1.bind('<Enter>', enter) \n",
    "frame1.bind('<Leave>', exit_) \n",
    "  \n",
    "frame1.pack() \n",
    "  \n",
    "mainloop() \n"
   ]
  },
  {
   "cell_type": "code",
   "execution_count": null,
   "metadata": {},
   "outputs": [],
   "source": []
  },
  {
   "cell_type": "code",
   "execution_count": null,
   "metadata": {},
   "outputs": [],
   "source": []
  }
 ],
 "metadata": {
  "kernelspec": {
   "display_name": "Python 3",
   "language": "python",
   "name": "python3"
  },
  "language_info": {
   "codemirror_mode": {
    "name": "ipython",
    "version": 3
   },
   "file_extension": ".py",
   "mimetype": "text/x-python",
   "name": "python",
   "nbconvert_exporter": "python",
   "pygments_lexer": "ipython3",
   "version": "3.7.1"
  }
 },
 "nbformat": 4,
 "nbformat_minor": 2
}
